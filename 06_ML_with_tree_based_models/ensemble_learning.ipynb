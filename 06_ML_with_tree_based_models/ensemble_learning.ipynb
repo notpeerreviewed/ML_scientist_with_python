{
 "cells": [
  {
   "cell_type": "code",
   "execution_count": 24,
   "metadata": {},
   "outputs": [
    {
     "name": "stdout",
     "output_type": "stream",
     "text": [
      "Logistic Regression : 0.947\n",
      "K Nearest Neighbors : 0.930\n",
      "Classification Tree : 0.930\n"
     ]
    }
   ],
   "source": [
    "import pandas as pd\n",
    "from sklearn.metrics import accuracy_score\n",
    "from sklearn.model_selection import train_test_split\n",
    "\n",
    "# import models\n",
    "from sklearn.linear_model import LogisticRegression\n",
    "from sklearn.tree import DecisionTreeClassifier\n",
    "from sklearn.neighbors import KNeighborsClassifier as KNN\n",
    "from sklearn.ensemble import VotingClassifier\n",
    "\n",
    "# set seed\n",
    "SEED = 1\n",
    "\n",
    "# read data\n",
    "wbc = pd.read_csv(\"https://assets.datacamp.com/production/repositories/1796/datasets/0eb6987cb9633e4d6aa6cfd11e00993d2387caa4/wbc.csv\")\n",
    "wbc.head()\n",
    "\n",
    "wbc_df = wbc.drop(['id', 'Unnamed: 32'], axis = 1)\n",
    "wbc_df = pd.get_dummies(df, drop_first = True)\n",
    "\n",
    "X = wbc_df.drop('diagnosis_M', axis = 1).values\n",
    "y = wbc_df['diagnosis_M'].values\n",
    "\n",
    "\n",
    "# split data\n",
    "X_train, X_test, y_train, y_test = train_test_split(X, y,\n",
    "                                                    test_size=0.3,\n",
    "                                                    random_state=SEED)\n",
    "\n",
    "\n",
    "\n",
    "lr = LogisticRegression(random_state=SEED, max_iter = 10000)\n",
    "knn = KNN()\n",
    "dt = DecisionTreeClassifier(random_state=SEED)\n",
    "\n",
    "\n",
    "# # define list containing tuples (classifier_name, classifier)\n",
    "classifiers = [('Logistic Regression', lr),\n",
    "               ('K Nearest Neighbors', knn),\n",
    "               ('Classification Tree', dt)]\n",
    "\n",
    "# Iterate over defined list of tuples\n",
    "for clf_name, clf in classifiers:\n",
    "    # fit clf to training set\n",
    "    clf.fit(X_train, y_train)\n",
    "\n",
    "    # predict labels\n",
    "    y_pred = clf.predict(X_test)\n",
    "\n",
    "    # evaluate accuracy of clf on test set\n",
    "    print('{:s} : {:.3f}'.format(clf_name, accuracy_score(y_test, y_pred)))\n",
    "\n"
   ]
  },
  {
   "cell_type": "code",
   "execution_count": 26,
   "metadata": {},
   "outputs": [
    {
     "name": "stdout",
     "output_type": "stream",
     "text": [
      "Voting Classifier: 0.953\n"
     ]
    }
   ],
   "source": [
    "# Instantiate a voting classifier\n",
    "vc = VotingClassifier(estimators = classifiers)\n",
    "\n",
    "# Fit vc to training set and predict test set labels\n",
    "vc.fit(X_train, y_train)\n",
    "y_pred = vc.predict(X_test)\n",
    "\n",
    "# Evaluate test-set accuracy\n",
    "print('Voting Classifier: {:.3f}'.format(accuracy_score(y_test, y_pred)))"
   ]
  }
 ],
 "metadata": {
  "kernelspec": {
   "display_name": "base",
   "language": "python",
   "name": "python3"
  },
  "language_info": {
   "codemirror_mode": {
    "name": "ipython",
    "version": 3
   },
   "file_extension": ".py",
   "mimetype": "text/x-python",
   "name": "python",
   "nbconvert_exporter": "python",
   "pygments_lexer": "ipython3",
   "version": "3.9.undefined"
  }
 },
 "nbformat": 4,
 "nbformat_minor": 2
}
