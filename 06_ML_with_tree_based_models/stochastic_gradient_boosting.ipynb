{
 "cells": [
  {
   "cell_type": "code",
   "execution_count": 1,
   "metadata": {},
   "outputs": [
    {
     "name": "stdout",
     "output_type": "stream",
     "text": [
      "Test set RMSE: 3.95\n"
     ]
    }
   ],
   "source": [
    "import pandas as pd\n",
    "from sklearn.ensemble import GradientBoostingRegressor\n",
    "from sklearn.metrics import mean_squared_error as MSE\n",
    "from sklearn.model_selection import train_test_split\n",
    "\n",
    "# set seed\n",
    "SEED = 1\n",
    "\n",
    "# read data\n",
    "auto_mpg = pd.read_csv(\"https://assets.datacamp.com/production/repositories/1796/datasets/3781d588cf7b04b1e376c7e9dda489b3e6c7465b/auto.csv\")\n",
    "auto_mpg.head()\n",
    "\n",
    "auto_mpg = pd.get_dummies(auto_mpg)\n",
    "auto_mpg.head()\n",
    "\n",
    "X = auto_mpg.drop('mpg', axis = 1).values\n",
    "y = auto_mpg['mpg'].values\n",
    "\n",
    "\n",
    "# # split data\n",
    "X_train, X_test, y_train, y_test = train_test_split(X, y,\n",
    "                                                    test_size=0.3,\n",
    "                                                    random_state=SEED)\n",
    "\n",
    "sgbt = GradientBoostingRegressor(max_depth=1,\n",
    "                                 subsample=0.8,\n",
    "                                 max_features=0.2,\n",
    "                                 n_estimators=300,\n",
    "                                 random_state=SEED)\n",
    "\n",
    "sgbt.fit(X_train, y_train)\n",
    "\n",
    "y_pred = sgbt.predict(X_test)\n",
    "\n",
    "rmse_test = MSE(y_test, y_pred)**(1/2)\n",
    "\n",
    "print('Test set RMSE: {:.2f}'.format(rmse_test))"
   ]
  }
 ],
 "metadata": {
  "kernelspec": {
   "display_name": "base",
   "language": "python",
   "name": "python3"
  },
  "language_info": {
   "codemirror_mode": {
    "name": "ipython",
    "version": 3
   },
   "file_extension": ".py",
   "mimetype": "text/x-python",
   "name": "python",
   "nbconvert_exporter": "python",
   "pygments_lexer": "ipython3",
   "version": "3.9.undefined"
  }
 },
 "nbformat": 4,
 "nbformat_minor": 2
}
