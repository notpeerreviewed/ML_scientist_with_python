{
 "cells": [
  {
   "cell_type": "code",
   "execution_count": 3,
   "metadata": {},
   "outputs": [
    {
     "name": "stdout",
     "output_type": "stream",
     "text": [
      "Accuracy of Bagging Classifier: 0.854\n"
     ]
    }
   ],
   "source": [
    "import pandas as pd\n",
    "from sklearn.metrics import accuracy_score\n",
    "from sklearn.model_selection import train_test_split\n",
    "\n",
    "# import models\n",
    "from sklearn.tree import DecisionTreeClassifier\n",
    "from sklearn.ensemble import BaggingClassifier\n",
    "\n",
    "# set seed\n",
    "SEED = 1\n",
    "\n",
    "# read data\n",
    "wbc = pd.read_csv(\"https://assets.datacamp.com/production/repositories/1796/datasets/0eb6987cb9633e4d6aa6cfd11e00993d2387caa4/wbc.csv\")\n",
    "wbc.head()\n",
    "\n",
    "wbc_df = wbc.drop(['id', 'Unnamed: 32'], axis = 1)\n",
    "wbc_df = pd.get_dummies(wbc_df, drop_first = True)\n",
    "\n",
    "X = wbc_df.drop('diagnosis_M', axis = 1).values\n",
    "y = wbc_df['diagnosis_M'].values\n",
    "\n",
    "\n",
    "# split data\n",
    "X_train, X_test, y_train, y_test = train_test_split(X, y,\n",
    "                                                    test_size=0.3,\n",
    "                                                    random_state=SEED)\n",
    "\n",
    "dt = DecisionTreeClassifier(max_depth=4,\n",
    "                            min_samples_leaf=0.16,\n",
    "                            random_state=SEED)\n",
    "\n",
    "# instantiate bagging classifier\n",
    "# n_jobs set to -1 to ensure all cores are used in calculations\n",
    "bc = BaggingClassifier(base_estimator=dt,\n",
    "                       n_estimators=300,\n",
    "                       n_jobs=-1)\n",
    "\n",
    "bc.fit(X_train, y_train)\n",
    "\n",
    "y_pred = bc.predict(X_test)\n",
    "\n",
    "accuracy = accuracy_score(y_test, y_pred)\n",
    "\n",
    "print('Accuracy of Bagging Classifier: {:.3f}'.format(accuracy))"
   ]
  }
 ],
 "metadata": {
  "kernelspec": {
   "display_name": "base",
   "language": "python",
   "name": "python3"
  },
  "language_info": {
   "codemirror_mode": {
    "name": "ipython",
    "version": 3
   },
   "file_extension": ".py",
   "mimetype": "text/x-python",
   "name": "python",
   "nbconvert_exporter": "python",
   "pygments_lexer": "ipython3",
   "version": "3.9.12"
  }
 },
 "nbformat": 4,
 "nbformat_minor": 2
}
