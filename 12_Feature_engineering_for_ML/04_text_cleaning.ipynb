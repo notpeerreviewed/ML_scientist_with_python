{
 "cells": [
  {
   "cell_type": "code",
   "execution_count": 1,
   "id": "ec8262ae-3503-4c4b-a9ea-63c780f32ac5",
   "metadata": {},
   "outputs": [],
   "source": [
    "import numpy as np\n",
    "import pandas as pd\n",
    "\n",
    "addresses = pd.read_csv(\"https://assets.datacamp.com/production/repositories/3752/datasets/cdc15798dd6698003ee33c6af185242faf896187/inaugural_speeches.csv\")"
   ]
  },
  {
   "cell_type": "code",
   "execution_count": 5,
   "id": "92b9769d-9f89-49ef-a637-7df5d845936b",
   "metadata": {},
   "outputs": [
    {
     "name": "stdout",
     "output_type": "stream",
     "text": [
      "0    fellow-citizens of the senate and of the house...\n",
      "1    fellow citizens:  i am again called upon by th...\n",
      "2    when it was first perceived, in early times, t...\n",
      "3    friends and fellow-citizens:  called upon to u...\n",
      "4    proceeding, fellow-citizens, to that qualifica...\n",
      "Name: text_clean, dtype: object\n"
     ]
    }
   ],
   "source": [
    "speech_df = addresses\n",
    "\n",
    "# Replace all non letter characters with a whitespace\n",
    "speech_df['text_clean'] = speech_df['text'].str.replace('[^a-zA-Z]', ' ')\n",
    "\n",
    "# Change to lower case\n",
    "speech_df['text_clean'] = speech_df['text_clean'].str.lower()\n",
    "\n",
    "# Print the first 5 rows of the text_clean column\n",
    "print(speech_df['text_clean'].head())"
   ]
  },
  {
   "cell_type": "code",
   "execution_count": 11,
   "id": "67077417-3654-4ba3-a6f2-d3d14f7b86a2",
   "metadata": {},
   "outputs": [
    {
     "name": "stdout",
     "output_type": "stream",
     "text": [
      "                                           text_clean  char_cnt  word_cnt  \\\n",
      "0   fellow-citizens of the senate and of the house...      8616      1427   \n",
      "1   fellow citizens:  i am again called upon by th...       787       135   \n",
      "2   when it was first perceived, in early times, t...     13871      2317   \n",
      "3   friends and fellow-citizens:  called upon to u...     10144      1717   \n",
      "4   proceeding, fellow-citizens, to that qualifica...     12902      2157   \n",
      "5   unwilling to depart from examples of the most ...      7003      1173   \n",
      "6   about to add the solemnity of an oath to the o...      7148      1210   \n",
      "7   i should be destitute of feeling if i was not ...     19894      3367   \n",
      "8   fellow-citizens:  i shall not attempt to descr...     26322      4462   \n",
      "9   in compliance with an usage coeval with the ex...     17753      2907   \n",
      "10  fellow-citizens:  about to undertake the arduo...      6818      1124   \n",
      "11  fellow-citizens:  the will of the american peo...      7061      1171   \n",
      "12  fellow-citizens: the practice of all my predec...     23527      3884   \n",
      "13  called from a retirement which i had supposed ...     32706      5542   \n",
      "14  fellow-citizens:  without solicitation on my p...     28739      4792   \n",
      "15  elected by the american people to the highest ...      6599      1087   \n",
      "16  my countrymen:  it a relief to feel that no he...     20089      3328   \n",
      "17  fellow-citizens:  i appear before you this day...     16820      2820   \n",
      "18  fellow-citizens of the united states:  in comp...     21032      3625   \n",
      "19  fellow-countrymen:    at this second appearing...      3934       698   \n",
      "20  citizens of the united states:  your suffrages...      6521      1121   \n",
      "21  fellow-citizens:  under providence i have been...      7736      1334   \n",
      "22  fellow-citizens:  we have assembled to repeat ...     14969      2472   \n",
      "23  fellow-citizens:  we stand to-day upon an emin...     17774      2973   \n",
      "24  fellow-citizens:  in the presence of this vast...     10155      1677   \n",
      "25  fellow-citizens:  there is no constitutional o...     26175      4384   \n",
      "26  my fellow-citizens:  in obedience of the manda...     12340      2013   \n",
      "27  fellow-citizens:  in obedience to the will of ...     23691      3957   \n",
      "28  my fellow-citizens:  when we assembled here on...     13426      2216   \n",
      "29  my fellow-citizens, no people on earth have mo...      5565       983   \n",
      "30  my fellow-citizens:  anyone who has taken the ...     32160      5430   \n",
      "31  there has been a change of government. it bega...      9554      1699   \n",
      "32  my fellow citizens:  the four years which have...      8402      1525   \n",
      "33  my countrymen:  when one surveys the world abo...     20294      3325   \n",
      "34  my countrymen:  no one can contemplate current...     23937      4054   \n",
      "35  my countrymen:  this occasion is not alone the...     22961      3745   \n",
      "36  i am certain that my fellow americans expect t...     10910      1875   \n",
      "37  when four years ago we met to inaugurate a pre...     10629      1799   \n",
      "38  on each national day of inauguration since    ...      7674      1316   \n",
      "39  mr. chief justice, mr. vice president, my frie...      3086       543   \n",
      "40  mr. vice president, mr. chief justice, and fel...     13707      2262   \n",
      "41  my friends, before i begin the expression of t...     14003      2449   \n",
      "42  the price of peace mr. chairman, mr. vice pres...      9277      1635   \n",
      "43  vice president johnson, mr. speaker, mr. chief...      7706      1339   \n",
      "44  my fellow countrymen, on this occasion, the oa...      8242      1470   \n",
      "45  senator dirksen, mr. chief justice, mr. vice p...     11701      2102   \n",
      "46  mr. vice president, mr. speaker, mr. chief jus...     10048      1783   \n",
      "47  for myself and for our nation, i want to thank...      6934      1216   \n",
      "48  senator hatfield, mr. chief justice, mr. presi...     13787      2422   \n",
      "49  senator mathias, chief justice burger, vice pr...     14601      2545   \n",
      "50  mr. chief justice, mr. president, vice preside...     12536      2306   \n",
      "51  my fellow citizens:today we celebrate the myst...      9119      1568   \n",
      "52  my fellow citizens:at this last presidential i...     12374      2143   \n",
      "53  president clinton, distinguished guests and my...      9084      1581   \n",
      "54  vice president cheney, mr. chief justice, pres...     12199      2056   \n",
      "55  my fellow citizens:    i stand here today humb...     13637      2371   \n",
      "56  vice president biden, mr. chief justice, membe...     12174      2072   \n",
      "57  chief justice roberts, president carter, presi...      8555      1452   \n",
      "\n",
      "    avg_word_length  \n",
      "0          6.037842  \n",
      "1          5.829630  \n",
      "2          5.986621  \n",
      "3          5.907979  \n",
      "4          5.981456  \n",
      "5          5.970162  \n",
      "6          5.907438  \n",
      "7          5.908524  \n",
      "8          5.899148  \n",
      "9          6.106983  \n",
      "10         6.065836  \n",
      "11         6.029889  \n",
      "12         6.057415  \n",
      "13         5.901480  \n",
      "14         5.997287  \n",
      "15         6.070837  \n",
      "16         6.036358  \n",
      "17         5.964539  \n",
      "18         5.801931  \n",
      "19         5.636103  \n",
      "20         5.817128  \n",
      "21         5.799100  \n",
      "22         6.055421  \n",
      "23         5.978473  \n",
      "24         6.055456  \n",
      "25         5.970575  \n",
      "26         6.130154  \n",
      "27         5.987111  \n",
      "28         6.058664  \n",
      "29         5.661241  \n",
      "30         5.922652  \n",
      "31         5.623308  \n",
      "32         5.509508  \n",
      "33         6.103459  \n",
      "34         5.904539  \n",
      "35         6.131108  \n",
      "36         5.818667  \n",
      "37         5.908282  \n",
      "38         5.831307  \n",
      "39         5.683241  \n",
      "40         6.059682  \n",
      "41         5.717844  \n",
      "42         5.674006  \n",
      "43         5.755041  \n",
      "44         5.606803  \n",
      "45         5.566603  \n",
      "46         5.635446  \n",
      "47         5.702303  \n",
      "48         5.692403  \n",
      "49         5.737132  \n",
      "50         5.436253  \n",
      "51         5.815689  \n",
      "52         5.774148  \n",
      "53         5.745731  \n",
      "54         5.933366  \n",
      "55         5.751582  \n",
      "56         5.875483  \n",
      "57         5.891873  \n"
     ]
    }
   ],
   "source": [
    "# Find the length of each text\n",
    "speech_df['char_cnt'] = speech_df['text_clean'].str.len()\n",
    "\n",
    "# Count the number of words in each text\n",
    "speech_df['word_cnt'] = speech_df['text_clean'].str.split().str.len()\n",
    "\n",
    "# Find the average length of word\n",
    "speech_df['avg_word_length'] = speech_df['char_cnt'] / speech_df['word_cnt']\n",
    "\n",
    "# Print the first 5 rows of these columns\n",
    "print(speech_df[['text_clean', 'char_cnt', 'word_cnt', 'avg_word_length']])"
   ]
  },
  {
   "cell_type": "code",
   "execution_count": 33,
   "id": "6bd65064-15a1-46da-8849-92772e4f7a53",
   "metadata": {},
   "outputs": [
    {
     "name": "stdout",
     "output_type": "stream",
     "text": [
      "['0092' '0097' 'abandon' ... 'your' 'zeal' 'zealously']\n"
     ]
    }
   ],
   "source": [
    "# Word counts in Python\n",
    "\n",
    "from sklearn.feature_extraction.text import CountVectorizer\n",
    "\n",
    "cv = CountVectorizer(min_df = 0.1, max_df = 0.9)\n",
    "\n",
    "cv.fit(speech_df['text_clean'])\n",
    "cv_transformed = cv.transform(speech_df['text_clean'])\n",
    "cv_transformed.toarray()\n",
    "\n",
    "# get a list of the features generated\n",
    "feature_names = cv.get_feature_names_out()\n",
    "print(feature_names)\n"
   ]
  },
  {
   "cell_type": "code",
   "execution_count": 27,
   "id": "fbd17d6b-5918-402b-8c44-364bdff59ee7",
   "metadata": {},
   "outputs": [
    {
     "name": "stdout",
     "output_type": "stream",
     "text": [
      "['0085' '0092' '0093' ... 'zealous' 'zealously' 'zone']\n"
     ]
    }
   ],
   "source": [
    "# Instantiate CountVectorizer\n",
    "cv = CountVectorizer()\n",
    "\n",
    "# Fit the vectorizer\n",
    "cv.fit(speech_df['text_clean'])\n",
    "\n",
    "# Print feature names\n",
    "print(cv.get_feature_names_out())"
   ]
  },
  {
   "cell_type": "code",
   "execution_count": 35,
   "id": "966f2397-4459-4e2b-bece-569c9329a424",
   "metadata": {},
   "outputs": [
    {
     "name": "stdout",
     "output_type": "stream",
     "text": [
      "[[ 0  1  0 ...  9  0  0]\n",
      " [ 0  0  0 ...  1  0  0]\n",
      " [ 0  1  0 ...  1  1  0]\n",
      " ...\n",
      " [12 23  0 ...  3  0  0]\n",
      " [12 22  0 ...  0  0  0]\n",
      " [10  7  0 ... 11  0  0]]\n"
     ]
    }
   ],
   "source": [
    "# Apply the vectorizer\n",
    "cv_transformed = cv.transform(speech_df['text_clean'])\n",
    "\n",
    "# Print the full array\n",
    "cv_array = cv_transformed.toarray()\n",
    "print(cv_array)"
   ]
  },
  {
   "cell_type": "code",
   "execution_count": 37,
   "id": "eaf21639-50c3-404a-b5c4-e6118e31858e",
   "metadata": {},
   "outputs": [
    {
     "name": "stdout",
     "output_type": "stream",
     "text": [
      "(58, 1932)\n"
     ]
    }
   ],
   "source": [
    "print(cv_array.shape)"
   ]
  },
  {
   "cell_type": "code",
   "execution_count": 39,
   "id": "8ea99218-60e8-4e5c-afb1-c7c5f26c0f0d",
   "metadata": {},
   "outputs": [
    {
     "name": "stdout",
     "output_type": "stream",
     "text": [
      "(58, 818)\n"
     ]
    }
   ],
   "source": [
    "# limiting our features\n",
    "\n",
    "# Specify arguements to limit the number of features generated\n",
    "cv = CountVectorizer(min_df = 0.2, max_df = 0.8)\n",
    "\n",
    "# Fit, transform, and convert into array\n",
    "cv_transformed = cv.fit_transform(speech_df['text_clean'])\n",
    "cv_array = cv_transformed.toarray()\n",
    "\n",
    "# Print the array shape\n",
    "print(cv_array.shape)"
   ]
  },
  {
   "cell_type": "code",
   "execution_count": 41,
   "id": "c2999a67-6b7c-4857-a057-1faeca108db9",
   "metadata": {},
   "outputs": [
    {
     "name": "stdout",
     "output_type": "stream",
     "text": [
      "                Name         Inaugural Address                      Date  \\\n",
      "0  George Washington   First Inaugural Address  Thursday, April 30, 1789   \n",
      "1  George Washington  Second Inaugural Address     Monday, March 4, 1793   \n",
      "2         John Adams         Inaugural Address   Saturday, March 4, 1797   \n",
      "3   Thomas Jefferson   First Inaugural Address  Wednesday, March 4, 1801   \n",
      "4   Thomas Jefferson  Second Inaugural Address     Monday, March 4, 1805   \n",
      "\n",
      "                                                text  \\\n",
      "0  Fellow-Citizens of the Senate and of the House...   \n",
      "1  Fellow Citizens:  I AM again called upon by th...   \n",
      "2  WHEN it was first perceived, in early times, t...   \n",
      "3  Friends and Fellow-Citizens:  CALLED upon to u...   \n",
      "4  PROCEEDING, fellow-citizens, to that qualifica...   \n",
      "\n",
      "                                          text_clean  char_cnt  word_cnt  \\\n",
      "0  fellow-citizens of the senate and of the house...      8616      1427   \n",
      "1  fellow citizens:  i am again called upon by th...       787       135   \n",
      "2  when it was first perceived, in early times, t...     13871      2317   \n",
      "3  friends and fellow-citizens:  called upon to u...     10144      1717   \n",
      "4  proceeding, fellow-citizens, to that qualifica...     12902      2157   \n",
      "\n",
      "   avg_word_length  Counts_abiding  Counts_ability  ...  Counts_women  \\\n",
      "0         6.037842               0               0  ...             0   \n",
      "1         5.829630               0               0  ...             0   \n",
      "2         5.986621               0               0  ...             0   \n",
      "3         5.907979               0               0  ...             0   \n",
      "4         5.981456               0               0  ...             0   \n",
      "\n",
      "   Counts_words  Counts_work  Counts_wrong  Counts_year  Counts_years  \\\n",
      "0             0            0             0            0             1   \n",
      "1             0            0             0            0             0   \n",
      "2             0            0             0            2             3   \n",
      "3             0            1             2            0             0   \n",
      "4             0            0             0            2             2   \n",
      "\n",
      "   Counts_yet  Counts_you  Counts_young  Counts_your  \n",
      "0           0           5             0            9  \n",
      "1           0           0             0            1  \n",
      "2           0           0             0            1  \n",
      "3           2           7             0            7  \n",
      "4           2           4             0            4  \n",
      "\n",
      "[5 rows x 826 columns]\n"
     ]
    }
   ],
   "source": [
    "# Creating a dataframe for use in further analysis\n",
    "\n",
    "# Create a DataFrame with these features\n",
    "cv_df = pd.DataFrame(cv_array, \n",
    "                     columns=cv.get_feature_names_out()).add_prefix('Counts_')\n",
    "\n",
    "# Add the new columns to the original DataFrame\n",
    "speech_df_new = pd.concat([speech_df, cv_df], axis=1, sort=False)\n",
    "print(speech_df_new.head())"
   ]
  }
 ],
 "metadata": {
  "kernelspec": {
   "display_name": "Python 3 (ipykernel)",
   "language": "python",
   "name": "python3"
  },
  "language_info": {
   "codemirror_mode": {
    "name": "ipython",
    "version": 3
   },
   "file_extension": ".py",
   "mimetype": "text/x-python",
   "name": "python",
   "nbconvert_exporter": "python",
   "pygments_lexer": "ipython3",
   "version": "3.12.4"
  }
 },
 "nbformat": 4,
 "nbformat_minor": 5
}
