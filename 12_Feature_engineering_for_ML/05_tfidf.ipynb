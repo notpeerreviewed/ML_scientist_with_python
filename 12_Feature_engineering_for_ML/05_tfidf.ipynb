{
 "cells": [
  {
   "cell_type": "code",
   "execution_count": 1,
   "id": "4d3f783e-2b27-4ead-95e5-c62159d47d2c",
   "metadata": {},
   "outputs": [],
   "source": [
    "import numpy as np\n",
    "import pandas as pd\n",
    "from sklearn.feature_extraction.text import TfidfVectorizer\n",
    "\n",
    "speech_df = pd.read_csv(\"https://assets.datacamp.com/production/repositories/3752/datasets/cdc15798dd6698003ee33c6af185242faf896187/inaugural_speeches.csv\")"
   ]
  },
  {
   "cell_type": "code",
   "execution_count": 9,
   "id": "c4ebf656-8240-4681-8de3-414b5726dc05",
   "metadata": {},
   "outputs": [
    {
     "name": "stdout",
     "output_type": "stream",
     "text": [
      "   TFIDF_0092  TFIDF_0097  TFIDF_action  TFIDF_administration  TFIDF_america  \\\n",
      "0         0.0    0.047468      0.000000              0.133265       0.000000   \n",
      "1         0.0    0.000000      0.000000              0.261016       0.266097   \n",
      "2         0.0    0.021955      0.000000              0.092456       0.157092   \n",
      "3         0.0    0.131111      0.000000              0.092023       0.000000   \n",
      "4         0.0    0.028455      0.041523              0.039943       0.000000   \n",
      "\n",
      "   TFIDF_american  TFIDF_americans  TFIDF_believe  TFIDF_best  TFIDF_better  \\\n",
      "0        0.105269              0.0       0.000000    0.000000      0.000000   \n",
      "1        0.000000              0.0       0.000000    0.000000      0.000000   \n",
      "2        0.073033              0.0       0.000000    0.026118      0.060473   \n",
      "3        0.000000              0.0       0.090286    0.116980      0.045143   \n",
      "4        0.031552              0.0       0.000000    0.067701      0.039189   \n",
      "\n",
      "   ...  TFIDF_things  TFIDF_time  TFIDF_today  TFIDF_union  TFIDF_united  \\\n",
      "0  ...      0.000000    0.045877          0.0     0.135859      0.203364   \n",
      "1  ...      0.000000    0.000000          0.0     0.000000      0.199157   \n",
      "2  ...      0.032037    0.021219          0.0     0.062837      0.070544   \n",
      "3  ...      0.047831    0.000000          0.0     0.093814      0.000000   \n",
      "4  ...      0.083046    0.165008          0.0     0.122162      0.030477   \n",
      "\n",
      "   TFIDF_war  TFIDF_way  TFIDF_work  TFIDF_world  TFIDF_years  \n",
      "0   0.000000   0.060687    0.000000     0.045877     0.052635  \n",
      "1   0.000000   0.000000    0.000000     0.000000     0.000000  \n",
      "2   0.024344   0.000000    0.000000     0.063657     0.073033  \n",
      "3   0.036346   0.000000    0.038993     0.095038     0.000000  \n",
      "4   0.094657   0.000000    0.000000     0.055003     0.063105  \n",
      "\n",
      "[5 rows x 100 columns]\n"
     ]
    }
   ],
   "source": [
    "# speech_df.head()\n",
    "\n",
    "# Replace all non letter characters with a whitespace\n",
    "speech_df['text_clean'] = speech_df['text'].str.replace('[^a-zA-Z]', ' ')\n",
    "\n",
    "# Change to lower case\n",
    "speech_df['text_clean'] = speech_df['text_clean'].str.lower()\n",
    "\n",
    "# Instantiate TfidfVectorizer\n",
    "tv = TfidfVectorizer(max_features = 100,\n",
    "                    stop_words = 'english')\n",
    "\n",
    "# Fit the vectroizer and transform the data\n",
    "tv_transformed = tv.fit_transform(speech_df['text_clean'])\n",
    "\n",
    "# Create a DataFrame with these features\n",
    "tv_df = pd.DataFrame(tv_transformed.toarray(), \n",
    "                     columns=tv.get_feature_names_out()).add_prefix('TFIDF_')\n",
    "print(tv_df.head())"
   ]
  },
  {
   "cell_type": "code",
   "execution_count": 11,
   "id": "a9bd9c84-3bd2-4832-8cc2-fef3a9a657c3",
   "metadata": {},
   "outputs": [
    {
     "name": "stdout",
     "output_type": "stream",
     "text": [
      "TFIDF_government    0.367016\n",
      "TFIDF_public        0.332862\n",
      "TFIDF_present       0.314827\n",
      "TFIDF_duty          0.238368\n",
      "TFIDF_country       0.229385\n",
      "Name: 0, dtype: float64\n"
     ]
    }
   ],
   "source": [
    "# Isolate the row to be examined\n",
    "sample_row = tv_df.iloc[0]\n",
    "\n",
    "# Print the top 5 words of the sorted output\n",
    "print(sample_row.sort_values(ascending=False).head())"
   ]
  },
  {
   "cell_type": "code",
   "execution_count": 19,
   "id": "34ff04ec-2d74-4b88-8a3d-f6c81ccf2ad5",
   "metadata": {},
   "outputs": [
    {
     "name": "stdout",
     "output_type": "stream",
     "text": [
      "   TFIDF_0092  TFIDF_0097  TFIDF_administration  TFIDF_america  \\\n",
      "0         0.0    0.000000              0.000000       0.000000   \n",
      "1         0.0    0.014693              0.147716       0.084696   \n",
      "2         0.0    0.160797              0.000000       0.231716   \n",
      "3         0.0    0.035171              0.110494       0.380124   \n",
      "4         0.0    0.251716              0.000000       0.077729   \n",
      "\n",
      "   TFIDF_american  TFIDF_americans  TFIDF_believe  TFIDF_best  TFIDF_better  \\\n",
      "0        0.000000         0.000000       0.000000    0.039514      0.000000   \n",
      "1        0.113632         0.028273       0.038960    0.052573      0.061751   \n",
      "2        0.050756         0.088402       0.000000    0.027397      0.160898   \n",
      "3        0.155426         0.033838       0.023314    0.083895      0.049271   \n",
      "4        0.019864         0.069194       0.000000    0.000000      0.000000   \n",
      "\n",
      "   TFIDF_century  ...  TFIDF_strength  TFIDF_support  TFIDF_time  TFIDF_today  \\\n",
      "0       0.000000  ...        0.047743       0.000000    0.031541     0.000000   \n",
      "1       0.025443  ...        0.000000       0.035971    0.083931     0.026318   \n",
      "2       0.079551  ...        0.099307       0.000000    0.153082     0.288007   \n",
      "3       0.000000  ...        0.050683       0.000000    0.016742     0.220485   \n",
      "4       0.093398  ...        0.259095       0.000000    0.068468     0.032204   \n",
      "\n",
      "   TFIDF_union  TFIDF_united  TFIDF_war  TFIDF_work  TFIDF_world  TFIDF_years  \n",
      "0     0.000000      0.000000   0.000000    0.083267     0.064650     0.104442  \n",
      "1     0.000000      0.088161   0.099895    0.129251     0.028672     0.061760  \n",
      "2     0.031298      0.068913   0.078085    0.202065     0.224123     0.048276  \n",
      "3     0.023960      0.017586   0.298892    0.044198     0.480421     0.000000  \n",
      "4     0.000000      0.053939   0.081491    0.135565     0.280679     0.000000  \n",
      "\n",
      "[5 rows x 100 columns]\n"
     ]
    }
   ],
   "source": [
    "# transforming unseen data\n",
    "from sklearn.model_selection import train_test_split\n",
    "\n",
    "# split dataset\n",
    "train_speech_df, test_speech_df = train_test_split(speech_df, test_size = 0.3)\n",
    "\n",
    "# Instantiate TfidfVectorizer\n",
    "tv = TfidfVectorizer(max_features=100, stop_words='english')\n",
    "\n",
    "# Fit the vectroizer and transform the data\n",
    "tv_transformed = tv.fit_transform(train_speech_df['text_clean'])\n",
    "\n",
    "# Transform test data\n",
    "test_tv_transformed = tv.transform(test_speech_df['text_clean'])\n",
    "\n",
    "# Create new features for the test set\n",
    "test_tv_df = pd.DataFrame(test_tv_transformed.toarray(), \n",
    "                          columns=tv.get_feature_names_out()).add_prefix('TFIDF_')\n",
    "print(test_tv_df.head())"
   ]
  }
 ],
 "metadata": {
  "kernelspec": {
   "display_name": "Python 3 (ipykernel)",
   "language": "python",
   "name": "python3"
  },
  "language_info": {
   "codemirror_mode": {
    "name": "ipython",
    "version": 3
   },
   "file_extension": ".py",
   "mimetype": "text/x-python",
   "name": "python",
   "nbconvert_exporter": "python",
   "pygments_lexer": "ipython3",
   "version": "3.12.4"
  }
 },
 "nbformat": 4,
 "nbformat_minor": 5
}
