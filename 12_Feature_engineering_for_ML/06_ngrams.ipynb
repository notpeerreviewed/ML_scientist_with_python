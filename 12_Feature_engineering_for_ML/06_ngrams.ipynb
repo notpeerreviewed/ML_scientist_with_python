{
 "cells": [
  {
   "cell_type": "code",
   "execution_count": 3,
   "id": "8e7d2b21-f012-4c90-aba7-a7d037197527",
   "metadata": {},
   "outputs": [],
   "source": [
    "import numpy as np\n",
    "import pandas as pd\n",
    "\n",
    "speech_df = pd.read_csv(\"https://assets.datacamp.com/production/repositories/3752/datasets/cdc15798dd6698003ee33c6af185242faf896187/inaugural_speeches.csv\")\n"
   ]
  },
  {
   "cell_type": "code",
   "execution_count": 5,
   "id": "bf949fae-c94a-46e0-aefd-01c5a95139de",
   "metadata": {},
   "outputs": [
    {
     "name": "stdout",
     "output_type": "stream",
     "text": [
      "['0092 ideal freedom' 'ability preserve protect'\n",
      " 'agriculture commerce manufactures' 'america 0092 ideal'\n",
      " 'best ability preserve' 'best interests country' 'bless god bless'\n",
      " 'bless united states' 'chief justice mr' 'children children children'\n",
      " 'citizens united states' 'civil religious liberty'\n",
      " 'commerce united states' 'concern thank god' 'confidence fellow citizens'\n",
      " 'congress extraordinary session' 'constitution does expressly'\n",
      " 'constitution united states' 'coordinate branches government'\n",
      " 'day task people' 'defend constitution united' 'desire determined work'\n",
      " 'distinguished guests fellow' 'does expressly say' 'equal exact justice'\n",
      " 'era good feeling' 'executive branch government'\n",
      " 'faithfully execute office' 'fellow citizens assembled'\n",
      " 'fellow citizens called' 'fellow citizens large' 'fellow citizens world'\n",
      " 'form perfect union' 'general welfare secure' 'god bless america'\n",
      " 'god bless god' 'good greatest number' 'government united states'\n",
      " 'granted federal government' 'great body people' 'great mass people'\n",
      " 'great political parties' 'greatest good greatest'\n",
      " 'guests fellow citizens' 'interests united states' 'land new promise'\n",
      " 'laws faithfully executed' 'letter spirit constitution'\n",
      " 'liberty pursuit happiness' 'life liberty pursuit'\n",
      " 'local self government' 'make hard choices' 'men women children'\n",
      " 'mr chief justice' 'mr vice president' 'nation like person'\n",
      " 'new breeze blowing' 'new jobs new' 'new level respect'\n",
      " 'new order things' 'new retreat responsibilities' 'new states admitted'\n",
      " 'north south east' 'oath prescribed constitution'\n",
      " 'office president united' 'peace shall strive' 'peace unless america'\n",
      " 'peace world peace' 'peaceful settlement disputes' 'people united states'\n",
      " 'policy united states' 'power general government'\n",
      " 'preserve protect defend' 'president united states'\n",
      " 'president vice president' 'promote general welfare'\n",
      " 'proof confidence fellow' 'protect defend constitution'\n",
      " 'protection great interests' 'reform civil service'\n",
      " 'republican model government' 'require thee justly'\n",
      " 'reserved states people' 'secure blessings liberty'\n",
      " 'soldiers sailors widows' 'south east west'\n",
      " 'sovereignty general government' 'states admitted union'\n",
      " 'taken oath office' 'territories united states' 'thank god bless'\n",
      " 'turning away old' 'united states 0097' 'united states america'\n",
      " 'united states best' 'united states government' 'united states great'\n",
      " 'united states maintain' 'vice president mr' 'welfare secure blessings']\n"
     ]
    }
   ],
   "source": [
    "# Replace all non letter characters with a whitespace\n",
    "speech_df['text_clean'] = speech_df['text'].str.replace('[^a-zA-Z]', ' ')\n",
    "\n",
    "# Change to lower case\n",
    "speech_df['text_clean'] = speech_df['text_clean'].str.lower()\n",
    "\n",
    "\n",
    "# Import CountVectorizer\n",
    "from sklearn.feature_extraction.text import CountVectorizer\n",
    "\n",
    "# Instantiate a trigram vectorizer\n",
    "cv_trigram_vec = CountVectorizer(max_features=100, \n",
    "                                 stop_words='english', \n",
    "                                 ngram_range = (3, 3))\n",
    "\n",
    "# Fit and apply trigram vectorizer\n",
    "cv_trigram = cv_trigram_vec.fit_transform(speech_df['text_clean'])\n",
    "\n",
    "# Print the trigram features\n",
    "print(cv_trigram_vec.get_feature_names_out())"
   ]
  },
  {
   "cell_type": "code",
   "execution_count": 7,
   "id": "7d1dbe03-1041-472e-8dd6-d9c1cc4a6b83",
   "metadata": {},
   "outputs": [
    {
     "name": "stdout",
     "output_type": "stream",
     "text": [
      "Counts_constitution united states    20\n",
      "Counts_people united states          13\n",
      "Counts_mr chief justice              10\n",
      "Counts_preserve protect defend       10\n",
      "Counts_president united states        8\n",
      "dtype: int64\n"
     ]
    }
   ],
   "source": [
    "# Create a DataFrame of the features\n",
    "cv_tri_df = pd.DataFrame(cv_trigram.toarray(), \n",
    "                 columns=cv_trigram_vec.get_feature_names_out()).add_prefix('Counts_')\n",
    "\n",
    "# Print the top 5 words in the sorted output\n",
    "print(cv_tri_df.sum().sort_values(ascending=False).head())"
   ]
  }
 ],
 "metadata": {
  "kernelspec": {
   "display_name": "Python 3 (ipykernel)",
   "language": "python",
   "name": "python3"
  },
  "language_info": {
   "codemirror_mode": {
    "name": "ipython",
    "version": 3
   },
   "file_extension": ".py",
   "mimetype": "text/x-python",
   "name": "python",
   "nbconvert_exporter": "python",
   "pygments_lexer": "ipython3",
   "version": "3.12.4"
  }
 },
 "nbformat": 4,
 "nbformat_minor": 5
}
