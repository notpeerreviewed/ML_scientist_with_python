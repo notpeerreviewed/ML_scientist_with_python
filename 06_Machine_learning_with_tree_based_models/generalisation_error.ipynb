{
 "cells": [
  {
   "cell_type": "code",
   "execution_count": 3,
   "id": "1f752b79",
   "metadata": {},
   "outputs": [
    {
     "name": "stdout",
     "output_type": "stream",
     "text": [
      "CV MSE: 20.51\n",
      "CV MSE: 15.30\n",
      "CV MSE: 20.92\n"
     ]
    }
   ],
   "source": [
    "from sklearn.tree import DecisionTreeRegressor\n",
    "from sklearn.model_selection import train_test_split, cross_val_score\n",
    "from sklearn.metrics import mean_squared_error as MSE\n",
    "\n",
    "import pandas as pd\n",
    "\n",
    "auto_mpg = pd.read_csv(\"https://assets.datacamp.com/production/repositories/1796/datasets/3781d588cf7b04b1e376c7e9dda489b3e6c7465b/auto.csv\")\n",
    "\n",
    "X = pd.get_dummies(auto_mpg.drop('mpg', axis = 1)).values\n",
    "y = auto_mpg['mpg'].values\n",
    "\n",
    "SEED = 123\n",
    "\n",
    "X_train, X_test, y_train, y_test = train_test_split(X, y,\n",
    "                                                   test_size = 0.3,\n",
    "                                                   random_state = SEED)\n",
    "\n",
    "dt = DecisionTreeRegressor(max_depth = 4,\n",
    "                          min_samples_leaf = 0.14,\n",
    "                          random_state = SEED)\n",
    "\n",
    "MSE_CV = -cross_val_score(dt, X_train, y_train, cv = 10,\n",
    "                        scoring = 'neg_mean_squared_error',\n",
    "                        n_jobs = -1)\n",
    "\n",
    "dt.fit(X_train, y_train)\n",
    "\n",
    "# predict labels of training set\n",
    "y_predict_train = dt.predict(X_train)\n",
    "\n",
    "# predict labels of test set\n",
    "y_predict_test = dt.predict(X_test)\n",
    "\n",
    "# CV MSE\n",
    "print('CV MSE: {:.2f}'.format(MSE_CV.mean()))\n",
    "\n",
    "# Training set MSE\n",
    "print('CV MSE: {:.2f}'.format(MSE(y_train, y_predict_train)))\n",
    "\n",
    "# Test set MSE\n",
    "print('CV MSE: {:.2f}'.format(MSE(y_test, y_predict_test)))"
   ]
  },
  {
   "cell_type": "code",
   "execution_count": null,
   "id": "ad98cab8",
   "metadata": {},
   "outputs": [],
   "source": []
  }
 ],
 "metadata": {
  "kernelspec": {
   "display_name": "Python 3 (ipykernel)",
   "language": "python",
   "name": "python3"
  },
  "language_info": {
   "codemirror_mode": {
    "name": "ipython",
    "version": 3
   },
   "file_extension": ".py",
   "mimetype": "text/x-python",
   "name": "python",
   "nbconvert_exporter": "python",
   "pygments_lexer": "ipython3",
   "version": "3.11.4"
  }
 },
 "nbformat": 4,
 "nbformat_minor": 5
}
