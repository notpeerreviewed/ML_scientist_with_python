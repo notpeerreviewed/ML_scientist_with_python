{
 "cells": [
  {
   "cell_type": "code",
   "execution_count": 3,
   "metadata": {},
   "outputs": [],
   "source": [
    "import pandas as pd\n",
    "import numpy as np\n",
    "import h5py"
   ]
  },
  {
   "cell_type": "code",
   "execution_count": null,
   "metadata": {},
   "outputs": [],
   "source": [
    "prices = pd.read_csv(\"https://assets.datacamp.com/production/repositories/1536/datasets/43d325fa67cde1d4d5de62adc108fceabaddf3cc/prices.csv\")"
   ]
  },
  {
   "cell_type": "code",
   "execution_count": null,
   "metadata": {},
   "outputs": [],
   "source": [
    "audio = pd.read_csv(\"https://assets.datacamp.com/production/repositories/1536/datasets/24a0da2e8c0b96df0f739ed72fd492b1a3902c22/audio_munged.hdf5\")"
   ]
  },
  {
   "cell_type": "code",
   "execution_count": 13,
   "metadata": {},
   "outputs": [
    {
     "name": "stdout",
     "output_type": "stream",
     "text": [
      "Path: /h5io/key_data/axis0\n",
      "Shape: (60,)\n",
      "Data type: int64\n",
      "Path: /h5io/key_data/axis1\n",
      "Shape: (8820,)\n",
      "Data type: float64\n",
      "Path: /h5io/key_data/block0_items\n",
      "Shape: (60,)\n",
      "Data type: int64\n",
      "Path: /h5io/key_data/block0_values\n",
      "Shape: (8820, 60)\n",
      "Data type: float32\n",
      "Path: /h5io/key_meta/axis0\n",
      "Shape: (6,)\n",
      "Data type: |S8\n",
      "Path: /h5io/key_meta/axis1\n",
      "Shape: (60,)\n",
      "Data type: int64\n",
      "Path: /h5io/key_meta/block0_items\n",
      "Shape: (2,)\n",
      "Data type: |S8\n",
      "Path: /h5io/key_meta/block0_values\n",
      "Shape: (60, 2)\n",
      "Data type: float64\n",
      "Path: /h5io/key_meta/block1_items\n",
      "Shape: (4,)\n",
      "Data type: |S7\n",
      "Path: /h5io/key_meta/block1_values\n",
      "Shape: (1,)\n",
      "Data type: object\n",
      "Path: /h5io/key_sfreq\n",
      "Shape: (1,)\n",
      "Data type: int64\n"
     ]
    }
   ],
   "source": [
    "def traverse_datasets(hdf_file):\n",
    "\n",
    "    def h5py_dataset_iterator(g, prefix=''):\n",
    "        for key in g.keys():\n",
    "            item = g[key]\n",
    "            path = f'{prefix}/{key}'\n",
    "            if isinstance(item, h5py.Dataset): # test for dataset\n",
    "                yield (path, item)\n",
    "            elif isinstance(item, h5py.Group): # test for group (go down)\n",
    "                yield from h5py_dataset_iterator(item, path)\n",
    "\n",
    "    for path, _ in h5py_dataset_iterator(hdf_file):\n",
    "        yield path\n",
    "\n",
    "with h5py.File('audio_munged.hdf5', 'r') as f:\n",
    "    for dset in traverse_datasets(f):\n",
    "        print('Path:', dset)\n",
    "        print('Shape:', f[dset].shape)\n",
    "        print('Data type:', f[dset].dtype)\n",
    "\n",
    "\n",
    "# f = h5py.File('audio_munged.hdf5', 'r')\n",
    "# list(f.items())"
   ]
  }
 ],
 "metadata": {
  "kernelspec": {
   "display_name": "base",
   "language": "python",
   "name": "python3"
  },
  "language_info": {
   "codemirror_mode": {
    "name": "ipython",
    "version": 3
   },
   "file_extension": ".py",
   "mimetype": "text/x-python",
   "name": "python",
   "nbconvert_exporter": "python",
   "pygments_lexer": "ipython3",
   "version": "3.9.12"
  }
 },
 "nbformat": 4,
 "nbformat_minor": 2
}
