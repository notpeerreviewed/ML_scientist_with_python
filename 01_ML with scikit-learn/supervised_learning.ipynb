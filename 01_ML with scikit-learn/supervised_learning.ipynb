{
 "cells": [
  {
   "cell_type": "markdown",
   "id": "e24ede69",
   "metadata": {},
   "source": [
    "## Supervised Learning with Scikit-Learn"
   ]
  },
  {
   "cell_type": "markdown",
   "id": "48e4bc71",
   "metadata": {},
   "source": [
    "Accuracy is defined as \n",
    "\n",
    "$$ (tp + tn) \\over (tp + tn + fp + fn) $$\n",
    "\n",
    "Precision is defined as \n",
    "\n",
    "$$ \\text{true positives} \\over \\text{true positives + false positives} $$\n",
    "\n",
    "High precision means having a lower false positive rate.\n",
    "High precision would mean not many legitimate transactions are predicted to be fraud\n",
    "\n",
    "Recall (also known as sensitivity) is defined as \n",
    "\n",
    "$$ \\text{true positives} \\over \\text{true positives + false negatives} $$\n",
    "\n",
    "High recall means lower false negative rate\n",
    "High recall means we predict most fraudulent transactions correctly\n",
    "\n",
    "\n",
    "F1 score = $$ 2*{precision*recall}\\over{precision+recall}$$\n",
    "\n",
    "This is the harmonic mean and is a reasonably good metric for establishing a model that works reasonably well across both metrics."
   ]
  },
  {
   "cell_type": "code",
   "execution_count": 10,
   "id": "359d9355",
   "metadata": {},
   "outputs": [
    {
     "data": {
      "text/html": [
       "<div>\n",
       "<style scoped>\n",
       "    .dataframe tbody tr th:only-of-type {\n",
       "        vertical-align: middle;\n",
       "    }\n",
       "\n",
       "    .dataframe tbody tr th {\n",
       "        vertical-align: top;\n",
       "    }\n",
       "\n",
       "    .dataframe thead th {\n",
       "        text-align: right;\n",
       "    }\n",
       "</style>\n",
       "<table border=\"1\" class=\"dataframe\">\n",
       "  <thead>\n",
       "    <tr style=\"text-align: right;\">\n",
       "      <th></th>\n",
       "      <th>pregnancies</th>\n",
       "      <th>glucose</th>\n",
       "      <th>diastolic</th>\n",
       "      <th>triceps</th>\n",
       "      <th>insulin</th>\n",
       "      <th>bmi</th>\n",
       "      <th>dpf</th>\n",
       "      <th>age</th>\n",
       "      <th>diabetes</th>\n",
       "    </tr>\n",
       "  </thead>\n",
       "  <tbody>\n",
       "    <tr>\n",
       "      <th>0</th>\n",
       "      <td>6</td>\n",
       "      <td>148</td>\n",
       "      <td>72</td>\n",
       "      <td>35</td>\n",
       "      <td>0</td>\n",
       "      <td>33.6</td>\n",
       "      <td>0.627</td>\n",
       "      <td>50</td>\n",
       "      <td>1</td>\n",
       "    </tr>\n",
       "    <tr>\n",
       "      <th>1</th>\n",
       "      <td>1</td>\n",
       "      <td>85</td>\n",
       "      <td>66</td>\n",
       "      <td>29</td>\n",
       "      <td>0</td>\n",
       "      <td>26.6</td>\n",
       "      <td>0.351</td>\n",
       "      <td>31</td>\n",
       "      <td>0</td>\n",
       "    </tr>\n",
       "    <tr>\n",
       "      <th>2</th>\n",
       "      <td>8</td>\n",
       "      <td>183</td>\n",
       "      <td>64</td>\n",
       "      <td>0</td>\n",
       "      <td>0</td>\n",
       "      <td>23.3</td>\n",
       "      <td>0.672</td>\n",
       "      <td>32</td>\n",
       "      <td>1</td>\n",
       "    </tr>\n",
       "    <tr>\n",
       "      <th>3</th>\n",
       "      <td>1</td>\n",
       "      <td>89</td>\n",
       "      <td>66</td>\n",
       "      <td>23</td>\n",
       "      <td>94</td>\n",
       "      <td>28.1</td>\n",
       "      <td>0.167</td>\n",
       "      <td>21</td>\n",
       "      <td>0</td>\n",
       "    </tr>\n",
       "    <tr>\n",
       "      <th>4</th>\n",
       "      <td>0</td>\n",
       "      <td>137</td>\n",
       "      <td>40</td>\n",
       "      <td>35</td>\n",
       "      <td>168</td>\n",
       "      <td>43.1</td>\n",
       "      <td>2.288</td>\n",
       "      <td>33</td>\n",
       "      <td>1</td>\n",
       "    </tr>\n",
       "  </tbody>\n",
       "</table>\n",
       "</div>"
      ],
      "text/plain": [
       "   pregnancies  glucose  diastolic  triceps  insulin   bmi    dpf  age  \\\n",
       "0            6      148         72       35        0  33.6  0.627   50   \n",
       "1            1       85         66       29        0  26.6  0.351   31   \n",
       "2            8      183         64        0        0  23.3  0.672   32   \n",
       "3            1       89         66       23       94  28.1  0.167   21   \n",
       "4            0      137         40       35      168  43.1  2.288   33   \n",
       "\n",
       "   diabetes  \n",
       "0         1  \n",
       "1         0  \n",
       "2         1  \n",
       "3         0  \n",
       "4         1  "
      ]
     },
     "execution_count": 10,
     "metadata": {},
     "output_type": "execute_result"
    }
   ],
   "source": [
    "# assessing a diabetes prediction classifier\n",
    "\n",
    "import pandas as pd\n",
    "from sklearn.metrics import classification_report, confusion_matrix\n",
    "from sklearn.model_selection import train_test_split\n",
    "from sklearn.neighbors import KNeighborsClassifier \n",
    "\n",
    "diabetes_df = pd.read_csv(\"data/diabetes_clean.csv\")\n",
    "diabetes_df.head()\n"
   ]
  },
  {
   "cell_type": "code",
   "execution_count": 12,
   "id": "edd9bc63",
   "metadata": {},
   "outputs": [
    {
     "name": "stdout",
     "output_type": "stream",
     "text": [
      "[[116  35]\n",
      " [ 47  33]]\n",
      "              precision    recall  f1-score   support\n",
      "\n",
      "           0       0.71      0.77      0.74       151\n",
      "           1       0.49      0.41      0.45        80\n",
      "\n",
      "    accuracy                           0.65       231\n",
      "   macro avg       0.60      0.59      0.59       231\n",
      "weighted avg       0.63      0.65      0.64       231\n",
      "\n"
     ]
    }
   ],
   "source": [
    "# Create X and y arrays\n",
    "X = diabetes_df[[\"bmi\", \"age\"]].values\n",
    "y = diabetes_df[\"diabetes\"].values\n",
    "\n",
    "X_train, X_test, y_train, y_test = train_test_split(X, y, test_size=0.3, random_state=42)\n",
    "\n",
    "knn = KNeighborsClassifier(n_neighbors=6)\n",
    "\n",
    "# Fit the model to the training data\n",
    "knn.fit(X_train, y_train)\n",
    "\n",
    "# Predict the labels of the test data: y_pred\n",
    "y_pred = knn.predict(X_test)\n",
    "\n",
    "# Generate the confusion matrix and classification report\n",
    "print(confusion_matrix(y_test, y_pred))\n",
    "print(classification_report(y_test, y_pred))"
   ]
  },
  {
   "cell_type": "markdown",
   "id": "0b75d6ef",
   "metadata": {},
   "source": [
    "## Logistic regression and the ROC (Receiver Operating Characteristic) curve"
   ]
  },
  {
   "cell_type": "markdown",
   "id": "912f9c10",
   "metadata": {},
   "source": [
    "Logistic regression is another classification method. It is used to assign a probability that an observation falls into a given class."
   ]
  },
  {
   "cell_type": "markdown",
   "id": "ca4c179c",
   "metadata": {},
   "source": [
    "### Metric for model accuracy \n",
    "\n",
    "The ROC AUC (area under the curve) is the metric that provides an estimate of model performance."
   ]
  },
  {
   "cell_type": "code",
   "execution_count": 16,
   "id": "1388c36d",
   "metadata": {
    "scrolled": true
   },
   "outputs": [
    {
     "data": {
      "image/png": "[encoded data removed]",
      "text/plain": [
       "<Figure size 640x480 with 1 Axes>"
      ]
     },
     "metadata": {},
     "output_type": "display_data"
    }
   ],
   "source": [
    "# general approach to using Logistic regression\n",
    "from sklearn.linear_model import LogisticRegression\n",
    "import matplotlib.pyplot as plt\n",
    "\n",
    "logreg = LogisticRegression()\n",
    "#X_train, X_test, y_train, y_test = train_test_split(X, y, test_size = 0.3, random_state = 42)\n",
    "logreg.fit(X_train, y_train)\n",
    "y_pred = logreg.predict(X_test)\n",
    "\n",
    "# we can use the predict_proba method to predict probabilities\n",
    "# this method returns a two dimensional array with the negative and positive probabilities for a given test observation\n",
    "# selecting the second column returns the positive class probabilities \n",
    "y_pred_probs = logreg.predict_proba(X_test)[:, 1]\n",
    "\n",
    "# plotting the ROC curve\n",
    "from sklearn.metrics import roc_curve\n",
    "\n",
    "# fpr = false positive rate, tpr = true positive rate\n",
    "fpr, tpr, thresholds = roc_curve(y_test, y_pred_probs)\n",
    "plt.plot([0, 1], [0,1], 'k--')\n",
    "plt.plot(fpr, tpr)\n",
    "plt.xlabel('False Positive Rate')\n",
    "plt.ylabel('True Positive Rate')\n",
    "plt.title('Logistic Regression ROC curve')\n",
    "plt.show()\n",
    "\n"
   ]
  },
  {
   "cell_type": "code",
   "execution_count": 17,
   "id": "2293bbed",
   "metadata": {},
   "outputs": [
    {
     "name": "stdout",
     "output_type": "stream",
     "text": [
      "0.6591059602649006\n",
      "[[122  29]\n",
      " [ 52  28]]\n",
      "              precision    recall  f1-score   support\n",
      "\n",
      "           0       0.70      0.81      0.75       151\n",
      "           1       0.49      0.35      0.41        80\n",
      "\n",
      "    accuracy                           0.65       231\n",
      "   macro avg       0.60      0.58      0.58       231\n",
      "weighted avg       0.63      0.65      0.63       231\n",
      "\n"
     ]
    }
   ],
   "source": [
    "from sklearn.metrics import roc_auc_score\n",
    "print(roc_auc_score(y_test, y_pred_probs))\n",
    "\n",
    "# Calculate the confusion matrix\n",
    "print(confusion_matrix(y_test, y_pred))\n",
    "\n",
    "# Calculate the classification report\n",
    "print(classification_report(y_test, y_pred))"
   ]
  },
  {
   "cell_type": "markdown",
   "id": "21565655",
   "metadata": {},
   "source": [
    "### Hyperparameter tuning\n",
    "Used to optimise model performance.\n",
    "\n",
    "Ridge/lasso regression: Alpha\n",
    "KNN: n_neighbors\n",
    "\n",
    "One method of hyperparameter tuning is called Grid search. Here we specify a grid of possible values to try as part of the tuning process."
   ]
  },
  {
   "cell_type": "code",
   "execution_count": 21,
   "id": "4ffd4f0f",
   "metadata": {},
   "outputs": [
    {
     "name": "stdout",
     "output_type": "stream",
     "text": [
      "{'alpha': 0.0001, 'solver': 'sag'} 0.17325608988685093\n"
     ]
    }
   ],
   "source": [
    "# GridSearchCV inh scitkit learn\n",
    "# first import the library\n",
    "from sklearn.model_selection import GridSearchCV, cross_val_score, KFold\n",
    "from sklearn.linear_model import Ridge\n",
    "import numpy as np\n",
    "\n",
    "# instantiate kfold\n",
    "kf = KFold(n_splits = 5, shuffle = True, random_state = 42)\n",
    "\n",
    "# specify names and values of hyperparameters we want to tune as the keys and values of a dictionary\n",
    "param_grid = {\"alpha\": np.arange(0.0001, 1, 10),\n",
    "             \"solver\": [\"sag\", \"lsqr\"]}\n",
    "\n",
    "# instantiate our model\n",
    "ridge = Ridge()\n",
    "\n",
    "# call gridsearch and pass it our model, the param grid, and set the cf argument to kf\n",
    "ridge_cv = GridSearchCV(ridge, param_grid, cv = kf)\n",
    "\n",
    "# this returns a grid search object which we can then fit to the training data\n",
    "ridge_cv.fit(X_train, y_train)\n",
    "\n",
    "# we can now print the models best parameters as identified by the model\n",
    "print(ridge_cv.best_params_, ridge_cv.best_score_)\n",
    "\n"
   ]
  },
  {
   "cell_type": "markdown",
   "id": "1e700fc3",
   "metadata": {},
   "source": [
    "This approach does not scale well though. If we attempt 3 fold CV, with 3 hyperparameters and 30 total values we would need to fit 900 models.\n",
    "\n",
    "There is an alternative.\n",
    "\n",
    "RandomisedSearchCV"
   ]
  },
  {
   "cell_type": "code",
   "execution_count": 22,
   "id": "b64f13e6",
   "metadata": {},
   "outputs": [
    {
     "name": "stdout",
     "output_type": "stream",
     "text": [
      "{'solver': 'lsqr', 'alpha': 0.0001} 0.1732534854297989\n"
     ]
    }
   ],
   "source": [
    "from sklearn.model_selection import RandomizedSearchCV\n",
    "ridge_cv = RandomizedSearchCV(ridge, param_grid, cv = kf, n_iter = 2)\n",
    "ridge_cv.fit(X_train, y_train)\n",
    "print(ridge_cv.best_params_, ridge_cv.best_score_)"
   ]
  },
  {
   "cell_type": "code",
   "execution_count": 23,
   "id": "e1bd32fd",
   "metadata": {},
   "outputs": [
    {
     "name": "stdout",
     "output_type": "stream",
     "text": [
      "0.015691136515049053\n"
     ]
    }
   ],
   "source": [
    "# evaluate on the test set\n",
    "test_score = ridge_cv.score(X_test, y_test)\n",
    "print(test_score)"
   ]
  },
  {
   "cell_type": "code",
   "execution_count": 11,
   "id": "4473c3c5",
   "metadata": {},
   "outputs": [
    {
     "name": "stdout",
     "output_type": "stream",
     "text": [
      "GameOfThrones\n"
     ]
    }
   ],
   "source": [
    "Tv = {'BreakingBad':100, 'GameOfThrones':1292, 'TMKUC' : 88}\n",
    " \n",
    "Keymax = max(zip(Tv.values(), Tv.keys()))[1]\n",
    "print(Keymax)\n"
   ]
  },
  {
   "cell_type": "code",
   "execution_count": null,
   "id": "7a9c83dc",
   "metadata": {},
   "outputs": [],
   "source": []
  }
 ],
 "metadata": {
  "kernelspec": {
   "display_name": "Python 3 (ipykernel)",
   "language": "python",
   "name": "python3"
  },
  "language_info": {
   "codemirror_mode": {
    "name": "ipython",
    "version": 3
   },
   "file_extension": ".py",
   "mimetype": "text/x-python",
   "name": "python",
   "nbconvert_exporter": "python",
   "pygments_lexer": "ipython3",
   "version": "3.11.4"
  }
 },
 "nbformat": 4,
 "nbformat_minor": 5
}
