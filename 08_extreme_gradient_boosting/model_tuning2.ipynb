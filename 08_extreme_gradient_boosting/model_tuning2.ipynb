{
 "cells": [
  {
   "cell_type": "code",
   "execution_count": 22,
   "metadata": {},
   "outputs": [],
   "source": [
    "import pandas as pd\n",
    "import numpy as np\n",
    "import xgboost as xgb\n",
    "\n",
    "from sklearn.model_selection import train_test_split, GridSearchCV\n",
    "from sklearn.metrics import mean_squared_error as MSE"
   ]
  },
  {
   "cell_type": "code",
   "execution_count": 4,
   "metadata": {},
   "outputs": [],
   "source": [
    "ames_preprocessed = pd.read_csv(\"https://assets.datacamp.com/production/repositories/943/datasets/4dbcaee889ef06fb0763e4a8652a4c1f268359b2/ames_housing_trimmed_processed.csv\")\n",
    "\n",
    "X = ames_preprocessed.drop('SalePrice', axis = 1)\n",
    "y = ames_preprocessed['SalePrice']"
   ]
  },
  {
   "cell_type": "code",
   "execution_count": 6,
   "metadata": {},
   "outputs": [
    {
     "name": "stdout",
     "output_type": "stream",
     "text": [
      "     eta     best_rmse\n",
      "0  0.001  78903.745397\n",
      "1  0.010  74293.709019\n",
      "2  0.100  47136.241898\n"
     ]
    }
   ],
   "source": [
    "# Create your housing DMatrix: housing_dmatrix\n",
    "housing_dmatrix = xgb.DMatrix(data=X, label=y)\n",
    "\n",
    "# Create the parameter dictionary for each tree (boosting round)\n",
    "params = {\"objective\":\"reg:squarederror\", \"max_depth\":3}\n",
    "\n",
    "# Create list of eta values and empty list to store final round rmse per xgboost model\n",
    "eta_vals = [0.001, 0.01, 0.1]\n",
    "best_rmse = []\n",
    "\n",
    "# Systematically vary the eta \n",
    "for curr_val in eta_vals:\n",
    "\n",
    "    params[\"eta\"] = curr_val\n",
    "    \n",
    "    # Perform cross-validation: cv_results\n",
    "    cv_results = xgb.cv(dtrain = housing_dmatrix,\n",
    "                               params = params,\n",
    "                               nfold = 3,\n",
    "                               num_boost_round = 10,\n",
    "                               early_stopping_rounds=10,\n",
    "                               metrics = \"rmse\",\n",
    "                               as_pandas = True,\n",
    "                               seed = 123)\n",
    "    \n",
    "    \n",
    "    \n",
    "    # Append the final round rmse to best_rmse\n",
    "    best_rmse.append(cv_results[\"test-rmse-mean\"].tail().values[-1])\n",
    "\n",
    "# Print the resultant DataFrame\n",
    "print(pd.DataFrame(list(zip(eta_vals, best_rmse)), columns=[\"eta\",\"best_rmse\"]))"
   ]
  },
  {
   "cell_type": "code",
   "execution_count": 24,
   "metadata": {},
   "outputs": [
    {
     "name": "stdout",
     "output_type": "stream",
     "text": [
      "Fitting 4 folds for each of 12 candidates, totalling 48 fits\n",
      "Best parameters found:  {'learning_rate': 0.1, 'n_estimators': 200, 'subsample': 0.5}\n",
      "Lowest RMSE found:  28509.31498929468\n"
     ]
    }
   ],
   "source": [
    "# using GridSearchCV\n",
    "\n",
    "X, y = ames_preprocessed[ames_preprocessed.columns.tolist()[:-1]], ames_preprocessed[ames_preprocessed.columns.tolist()[-1]]\n",
    "\n",
    "housing_dmatrix = xgb.DMatrix(data = X, label = y)\n",
    "\n",
    "gbm_param_grid = {'learning_rate': [0.01, 0.1, 0.5, 0.9],\n",
    "                  'n_estimators': [200],\n",
    "                  'subsample': [0.3, 0.5, 0.9]}\n",
    "\n",
    "gbm = xgb.XGBRegressor()\n",
    "\n",
    "grid_mse = GridSearchCV(estimator = gbm,\n",
    "                        param_grid = gbm_param_grid,\n",
    "                        scoring = 'neg_mean_squared_error',\n",
    "                        cv = 4,\n",
    "                        verbose = 1)\n",
    "\n",
    "grid_mse.fit(X, y)\n",
    "\n",
    "print(\"Best parameters found: \", grid_mse.best_params_)\n",
    "print(\"Lowest RMSE found: \", np.sqrt(np.abs(grid_mse.best_score_)))"
   ]
  },
  {
   "cell_type": "code",
   "execution_count": 28,
   "metadata": {},
   "outputs": [
    {
     "name": "stdout",
     "output_type": "stream",
     "text": [
      "Fitting 4 folds for each of 25 candidates, totalling 100 fits\n",
      "Best parameters found:  {'subsample': 0.7000000000000001, 'n_estimators': 200, 'learning_rate': 0.3}\n",
      "Lowest RMSE found:  29654.069497378503\n"
     ]
    }
   ],
   "source": [
    "# test random search\n",
    "\n",
    "from sklearn.model_selection import RandomizedSearchCV\n",
    "\n",
    "gbm_param_grid = {'learning_rate': np.arange(0.05, 1.05, 0.05),\n",
    "                  'n_estimators': [200],\n",
    "                  'subsample': np.arange(0.05, 1.05, 0.05)}\n",
    "\n",
    "gbm = xgb.XGBRegressor()\n",
    "\n",
    "randomized_mse = RandomizedSearchCV(estimator = gbm,\n",
    "                        param_distributions = gbm_param_grid,\n",
    "                        scoring = 'neg_mean_squared_error',\n",
    "                        n_iter = 25,\n",
    "                        cv = 4,\n",
    "                        verbose = 1)\n",
    "\n",
    "randomized_mse.fit(X, y)\n",
    "\n",
    "print(\"Best parameters found: \", randomized_mse.best_params_)\n",
    "print(\"Lowest RMSE found: \", np.sqrt(np.abs(randomized_mse.best_score_)))"
   ]
  }
 ],
 "metadata": {
  "kernelspec": {
   "display_name": "base",
   "language": "python",
   "name": "python3"
  },
  "language_info": {
   "codemirror_mode": {
    "name": "ipython",
    "version": 3
   },
   "file_extension": ".py",
   "mimetype": "text/x-python",
   "name": "python",
   "nbconvert_exporter": "python",
   "pygments_lexer": "ipython3",
   "version": "3.9.12"
  }
 },
 "nbformat": 4,
 "nbformat_minor": 2
}
