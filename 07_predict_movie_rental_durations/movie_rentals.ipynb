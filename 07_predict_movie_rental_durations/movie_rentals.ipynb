{
 "cells": [
  {
   "cell_type": "code",
   "execution_count": 1,
   "metadata": {},
   "outputs": [],
   "source": [
    "import pandas as pd\n",
    "import numpy as np\n",
    "from sklearn.ensemble import RandomForestRegressor\n",
    "from sklearn.linear_model import LinearRegression\n",
    "from sklearn.tree import DecisionTreeRegressor\n",
    "from sklearn.metrics import mean_squared_error as MSE\n",
    "from sklearn.model_selection import train_test_split, GridSearchCV\n",
    "\n",
    "df_rental = pd.read_csv(\"rental_info.csv\")\n",
    "df_rental.head()\n",
    "\n",
    "df_rental['rental_date'] = pd.to_datetime(df_rental['rental_date']) \n",
    "df_rental['return_date'] = pd.to_datetime(df_rental['return_date']) \n",
    "\n",
    "df_rental[\"rental_length\"] = pd.to_datetime(df_rental[\"return_date\"]) - pd.to_datetime(df_rental[\"rental_date\"])\n",
    "df_rental[\"rental_length_days\"] = df_rental[\"rental_length\"].dt.days\n",
    "\n"
   ]
  },
  {
   "cell_type": "code",
   "execution_count": 2,
   "metadata": {},
   "outputs": [],
   "source": [
    "df_rental[\"deleted_scenes\"] =  np.where(df_rental[\"special_features\"].str.contains(\"Deleted Scenes\"), 1,0)\n",
    "df_rental[\"behind_the_scenes\"] =  np.where(df_rental[\"special_features\"].str.contains(\"Behind the Scenes\"), 1,0)"
   ]
  },
  {
   "cell_type": "code",
   "execution_count": 5,
   "metadata": {},
   "outputs": [
    {
     "data": {
      "image/png": "[encoded data removed]",
      "text/plain": [
       "<Figure size 432x288 with 1 Axes>"
      ]
     },
     "metadata": {
      "needs_background": "light"
     },
     "output_type": "display_data"
    }
   ],
   "source": [
    "df_rental.columns\n",
    "X = df_rental.drop(['rental_date', 'return_date', 'special_features', 'rental_length_days'], axis = 1)\n",
    "y = df_rental['rental_length_days']\n",
    "\n",
    "X_train, X_test, y_train, y_test = train_test_split(X, y, test_size=0.2, random_state=9)\n",
    "\n",
    "# Import Lasso\n",
    "from sklearn.linear_model import Lasso\n",
    "import matplotlib.pyplot as plt\n",
    "\n",
    "# scores = []\n",
    "\n",
    "# for alpha in [0.01, 0.1, 1.0, 10.0, 20.0, 50.0]:\n",
    "#     # Instantiate a lasso regression model\n",
    "#     lasso = Lasso(alpha = alpha)\n",
    "\n",
    "#     # Fit the model to the data\n",
    "#     lasso.fit(X_train, y_train)\n",
    "#     lasso_pred = lasso.predict(X_test)\n",
    "#     scores.append(lasso.score(X_test, y_test))\n",
    "\n",
    "# print(scores)\n",
    "lasso = Lasso(alpha = 0.1)\n",
    "# Compute and print the coefficients\n",
    "lasso_coef = lasso.fit(X, y).coef_\n",
    "\n",
    "plt.bar(X.columns, lasso_coef)\n",
    "plt.xticks(rotation=45)\n",
    "plt.show()\n",
    "\n",
    "# shows amount and rental rate are the only two significant contributing coefficients"
   ]
  },
  {
   "cell_type": "code",
   "execution_count": 8,
   "metadata": {},
   "outputs": [
    {
     "name": "stdout",
     "output_type": "stream",
     "text": [
      "Linear Regression : 2.882\n",
      "Decision Tree : 2.302\n",
      "Random Forest : 2.302\n"
     ]
    }
   ],
   "source": [
    "lr = LinearRegression()\n",
    "dt = DecisionTreeRegressor(random_state=9)\n",
    "rf = RandomForestRegressor(random_state=9)\n",
    "\n",
    "# select indicated variables\n",
    "X = df_rental[['amount', 'amount_2', 'rental_rate_2']]\n",
    "y = df_rental['rental_length_days']\n",
    "\n",
    "X_train, X_test, y_train, y_test = train_test_split(X, y, test_size=0.2, random_state=9)\n",
    "\n",
    "# # define list containing tuples (classifier_name, classifier)\n",
    "classifiers = [('Linear Regression', lr),\n",
    "               ('Decision Tree', dt),\n",
    "               ('Random Forest', rf)]\n",
    "\n",
    "# Iterate over defined list of tuples\n",
    "for clf_name, clf in classifiers:\n",
    "    # fit clf to training set\n",
    "    clf.fit(X_train, y_train)\n",
    "\n",
    "    # predict labels\n",
    "    y_pred = clf.predict(X_test)\n",
    "\n",
    "    # evaluate accuracy of clf on test set\n",
    "    print('{:s} : {:.3f}'.format(clf_name, MSE(y_test, y_pred)))\n"
   ]
  },
  {
   "cell_type": "code",
   "execution_count": 11,
   "metadata": {},
   "outputs": [
    {
     "name": "stdout",
     "output_type": "stream",
     "text": [
      "Fitting 3 folds for each of 24 candidates, totalling 72 fits\n",
      "Best hyperparameters:\n",
      " {'max_depth': 6, 'min_samples_leaf': 1, 'n_estimators': 400}\n",
      "Test set MSE of rf: 2.30\n"
     ]
    }
   ],
   "source": [
    "params_rf = {\n",
    "    'n_estimators': [300, 400],\n",
    "    'max_depth': [2, 4, 6, 8],\n",
    "    'min_samples_leaf': [0.3, 0.5, 1]\n",
    "}\n",
    "\n",
    "grid_rf = GridSearchCV(estimator = rf,\n",
    "                       param_grid=params_rf,\n",
    "                       scoring = 'neg_mean_squared_error',\n",
    "                       cv = 3,\n",
    "                       verbose = 1,\n",
    "                       n_jobs=-1)\n",
    "\n",
    "grid_rf.fit(X_train, y_train)\n",
    "\n",
    "best_hyperparams = grid_rf.best_params_\n",
    "print('Best hyperparameters:\\n', best_hyperparams)\n",
    "\n",
    "best_model = grid_rf.best_estimator_\n",
    "\n",
    "y_pred = best_model.predict(X_test)\n",
    "\n",
    "mse_test = MSE(y_test, y_pred)\n",
    "\n",
    "print('Test set MSE of rf: {:.2f}'.format(mse_test))"
   ]
  },
  {
   "cell_type": "code",
   "execution_count": null,
   "metadata": {},
   "outputs": [],
   "source": [
    "best_model = grid_rf.best_estimator_\n",
    "best_mse = mse_test"
   ]
  }
 ],
 "metadata": {
  "kernelspec": {
   "display_name": "base",
   "language": "python",
   "name": "python3"
  },
  "language_info": {
   "codemirror_mode": {
    "name": "ipython",
    "version": 3
   },
   "file_extension": ".py",
   "mimetype": "text/x-python",
   "name": "python",
   "nbconvert_exporter": "python",
   "pygments_lexer": "ipython3",
   "version": "3.9.12"
  }
 },
 "nbformat": 4,
 "nbformat_minor": 2
}
