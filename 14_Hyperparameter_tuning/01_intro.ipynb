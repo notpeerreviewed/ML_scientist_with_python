{
 "cells": [
  {
   "cell_type": "code",
   "execution_count": 31,
   "id": "9b31f345-2383-42d6-b75a-9bd4125e46d2",
   "metadata": {},
   "outputs": [],
   "source": [
    "import pandas as pd\n",
    "import numpy as np\n",
    "from sklearn.model_selection import train_test_split\n",
    "from sklearn.linear_model import LogisticRegression\n",
    "from sklearn.preprocessing import StandardScaler\n",
    "from sklearn.pipeline import make_pipeline\n",
    "\n",
    "card_df = pd.read_csv(\"https://assets.datacamp.com/production/repositories/3983/datasets/bb158f1c76682286f938e02d71de21a3e5389cbf/credit-card-full.csv\")"
   ]
  },
  {
   "cell_type": "code",
   "execution_count": 19,
   "id": "5fcc1d9b-a4f2-4267-8fed-d0e390f2170a",
   "metadata": {},
   "outputs": [],
   "source": [
    "y = card_df['default payment next month']\n",
    "X = card_df.drop(['default payment next month', 'ID'], axis = 1)\n",
    "\n",
    "X_train, X_test, y_train, y_test = train_test_split(X, y, random_state = 42)"
   ]
  },
  {
   "cell_type": "code",
   "execution_count": 45,
   "id": "6f04945f-fba2-435c-ae11-bbd95c11a24b",
   "metadata": {},
   "outputs": [
    {
     "data": {
      "text/plain": [
       "array([[-0.1028414 , -0.05211038, -0.07533706, -0.08365841,  0.07351045,\n",
       "         0.65332706,  0.10923202,  0.09066817,  0.03967956,  0.02857992,\n",
       "         0.017989  , -0.40191493,  0.16429661,  0.14284206, -0.05991881,\n",
       "         0.00660991,  0.02485437, -0.17479061, -0.23664235, -0.0392414 ,\n",
       "        -0.04193338, -0.03103084, -0.05074717]])"
      ]
     },
     "execution_count": 45,
     "metadata": {},
     "output_type": "execute_result"
    }
   ],
   "source": [
    "pipe = make_pipeline(StandardScaler(), LogisticRegression())\n",
    "pipe.fit(X_train, y_train) \n",
    "\n",
    "pipe.steps[1][1].coef_"
   ]
  },
  {
   "cell_type": "code",
   "execution_count": 47,
   "id": "decc5fba-2f75-42f9-a878-c436091acd67",
   "metadata": {},
   "outputs": [
    {
     "name": "stdout",
     "output_type": "stream",
     "text": [
      "     Variable  Coefficient\n",
      "0   LIMIT_BAL    -0.102841\n",
      "1         SEX    -0.052110\n",
      "2   EDUCATION    -0.075337\n",
      "3    MARRIAGE    -0.083658\n",
      "4         AGE     0.073510\n",
      "5       PAY_0     0.653327\n",
      "6       PAY_2     0.109232\n",
      "7       PAY_3     0.090668\n",
      "8       PAY_4     0.039680\n",
      "9       PAY_5     0.028580\n",
      "10      PAY_6     0.017989\n",
      "11  BILL_AMT1    -0.401915\n",
      "12  BILL_AMT2     0.164297\n",
      "13  BILL_AMT3     0.142842\n",
      "14  BILL_AMT4    -0.059919\n",
      "15  BILL_AMT5     0.006610\n",
      "16  BILL_AMT6     0.024854\n",
      "17   PAY_AMT1    -0.174791\n",
      "18   PAY_AMT2    -0.236642\n",
      "19   PAY_AMT3    -0.039241\n",
      "20   PAY_AMT4    -0.041933\n",
      "21   PAY_AMT5    -0.031031\n",
      "22   PAY_AMT6    -0.050747\n",
      "     Variable  Coefficient\n",
      "5       PAY_0     0.653327\n",
      "12  BILL_AMT2     0.164297\n",
      "13  BILL_AMT3     0.142842\n"
     ]
    }
   ],
   "source": [
    "original_variables = X_train.columns\n",
    "\n",
    "model_coefficients = pipe.steps[1][1].coef_[0]\n",
    "\n",
    "# Create a dataframe of the variables and coefficients & print it out\n",
    "coefficient_df = pd.DataFrame({\"Variable\" : original_variables, \"Coefficient\": model_coefficients})\n",
    "print(coefficient_df)\n",
    "\n",
    "# Print out the top 3 positive variables\n",
    "top_three_df = coefficient_df.sort_values(by='Coefficient', axis=0, ascending=False)[0:3]\n",
    "print(top_three_df)"
   ]
  }
 ],
 "metadata": {
  "kernelspec": {
   "display_name": "Python 3 (ipykernel)",
   "language": "python",
   "name": "python3"
  },
  "language_info": {
   "codemirror_mode": {
    "name": "ipython",
    "version": 3
   },
   "file_extension": ".py",
   "mimetype": "text/x-python",
   "name": "python",
   "nbconvert_exporter": "python",
   "pygments_lexer": "ipython3",
   "version": "3.12.4"
  }
 },
 "nbformat": 4,
 "nbformat_minor": 5
}
