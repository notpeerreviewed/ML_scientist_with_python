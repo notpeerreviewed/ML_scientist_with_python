{
 "cells": [
  {
   "cell_type": "code",
   "execution_count": 4,
   "id": "30445627-fbf9-4f75-a793-1e8dff4443eb",
   "metadata": {},
   "outputs": [],
   "source": [
    "import pandas as pd\n",
    "import numpy as np\n",
    "\n",
    "from sklearn.model_selection import train_test_split\n",
    "from sklearn.ensemble import RandomForestClassifier"
   ]
  },
  {
   "cell_type": "code",
   "execution_count": 6,
   "id": "d16d19a8-443b-4f4f-8fec-d17a40fd5ede",
   "metadata": {},
   "outputs": [],
   "source": [
    "ttt_df = pd.read_csv(\"https://assets.datacamp.com/production/repositories/3981/datasets/e6ee6604b9eed121a015a993bfb225ddf656cf81/tic-tac-toe.csv\")"
   ]
  },
  {
   "cell_type": "code",
   "execution_count": 14,
   "id": "0b882527-5130-4246-b011-84779eee67cc",
   "metadata": {},
   "outputs": [],
   "source": [
    "# creating a training and testing split\n",
    "X = pd.get_dummies(ttt_df.iloc[:, 0:9])\n",
    "y = ttt_df.iloc[:,9]\n",
    "\n",
    "# training dataset\n",
    "X_temp, X_test, y_temp, y_test = train_test_split(X, y, test_size = 0.2, random_state = 1111)\n",
    "\n",
    "# validation dataset\n",
    "X_train, X_val, y_train, y_val = train_test_split(X_temp, y_temp, test_size = 0.25, random_state = 1111)\n",
    "\n",
    "# this leaves 60% of the data for training, 20% for validation, and 20% for testing"
   ]
  }
 ],
 "metadata": {
  "kernelspec": {
   "display_name": "Python 3 (ipykernel)",
   "language": "python",
   "name": "python3"
  },
  "language_info": {
   "codemirror_mode": {
    "name": "ipython",
    "version": 3
   },
   "file_extension": ".py",
   "mimetype": "text/x-python",
   "name": "python",
   "nbconvert_exporter": "python",
   "pygments_lexer": "ipython3",
   "version": "3.12.4"
  }
 },
 "nbformat": 4,
 "nbformat_minor": 5
}
